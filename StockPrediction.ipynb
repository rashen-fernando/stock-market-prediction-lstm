{
  "cells": [
    {
      "cell_type": "code",
      "execution_count": 1,
      "metadata": {
        "id": "YmC6WKG8dBpv"
      },
      "outputs": [],
      "source": [
        "adjusted_1min_data_path = '/content/drive/MyDrive/fiver/stock prediction/dataset/historical data/ES_continuous_UNadjusted_1hour.txt'"
      ]
    },
    {
      "cell_type": "code",
      "execution_count": 2,
      "metadata": {
        "id": "gNgAAdk0b_33"
      },
      "outputs": [],
      "source": [
        "import pandas as pd\n",
        "import numpy as np\n",
        "import math\n",
        "import torch\n",
        "import torch.nn as nn\n",
        "import torch.nn.functional as F\n",
        "from torch.autograd import Variable\n",
        "import joblib\n",
        "import torch.optim as optim\n",
        "import matplotlib.pyplot as plt\n",
        "from mpl_toolkits import mplot3d\n",
        "\n",
        "import matplotlib.pyplot as plt\n",
        "import librosa.display\n",
        "# import neptune.new as neptune\n",
        "# from neptune.new.types import File\n",
        "from sklearn.preprocessing import MinMaxScaler\n",
        "from sklearn import preprocessing\n",
        "\n",
        "device = torch.device(\"cuda:0\" if torch.cuda.is_available() else \"cpu\")"
      ]
    },
    {
      "cell_type": "code",
      "execution_count": 3,
      "metadata": {
        "id": "qKqL7U72cNB5"
      },
      "outputs": [],
      "source": [
        "\n",
        "df = pd.read_csv(adjusted_1min_data_path ,sep=\",\", header=None, names=[\"DateTime\", \"Open\", \"High\", \"Low\", \"Close\", \"Volume\"])\n",
        "#df['DateTime'] = pd.to_datetime(df['DateTime'])\n",
        "\n",
        "# df['DateTime'].dt.day[2269]\n"
      ]
    },
    {
      "cell_type": "code",
      "execution_count": 4,
      "metadata": {
        "colab": {
          "base_uri": "https://localhost:8080/"
        },
        "id": "x9Z13VIpcRXc",
        "outputId": "ac003b7c-658d-489c-8db6-1e12aac88eb6"
      },
      "outputs": [
        {
          "output_type": "stream",
          "name": "stderr",
          "text": [
            "/usr/local/lib/python3.7/dist-packages/ipykernel_launcher.py:4: DeprecationWarning: `np.float` is a deprecated alias for the builtin `float`. To silence this warning, use `float` by itself. Doing this will not modify any behavior and is safe. If you specifically wanted the numpy scalar type, use `np.float64` here.\n",
            "Deprecated in NumPy 1.20; for more details and guidance: https://numpy.org/devdocs/release/1.20.0-notes.html#deprecations\n",
            "  after removing the cwd from sys.path.\n"
          ]
        }
      ],
      "source": [
        "sc = MinMaxScaler(feature_range=(0,1))\n",
        "# df = sc.fit_transform(torch.from_numpy( np.array(df)[:,1:].astype(np.float) ))\n",
        "\n",
        "df = torch.from_numpy( sc.fit_transform(np.array(df)[:,1:].astype(np.float)) )\n",
        "# df = torch.from_numpy( (np.array(df)[:,2:3].astype(np.float)) )\n",
        "# df =np.array(df)[:,2:3].astype(np.float)"
      ]
    },
    {
      "cell_type": "code",
      "execution_count": 38,
      "metadata": {
        "colab": {
          "base_uri": "https://localhost:8080/"
        },
        "id": "jEVHRcU7hWF2",
        "outputId": "4fcb60f1-6c33-43e4-9ad9-d742aaddcdce"
      },
      "outputs": [
        {
          "output_type": "execute_result",
          "data": {
            "text/plain": [
              "tensor([[1.3703e-01, 1.3548e-01, 1.3737e-01, 1.3708e-01, 1.0682e-03],\n",
              "        [1.3703e-01, 1.3548e-01, 1.3744e-01, 1.3708e-01, 4.6413e-04],\n",
              "        [1.3709e-01, 1.3548e-01, 1.3737e-01, 1.3702e-01, 2.4612e-04],\n",
              "        ...,\n",
              "        [8.0485e-01, 8.0676e-01, 8.0424e-01, 8.0739e-01, 9.4078e-02],\n",
              "        [8.0744e-01, 8.0682e-01, 8.0340e-01, 8.0558e-01, 1.6261e-01],\n",
              "        [8.0569e-01, 8.0519e-01, 8.0503e-01, 8.0528e-01, 3.2131e-02]],\n",
              "       dtype=torch.float64)"
            ]
          },
          "metadata": {},
          "execution_count": 38
        }
      ],
      "source": [
        "df"
      ]
    },
    {
      "cell_type": "code",
      "execution_count": 56,
      "metadata": {
        "id": "vZqTz6aJcVKu"
      },
      "outputs": [],
      "source": [
        "sequence_length = 22\n",
        "batch_size = 1\n",
        "input_size = df.size(dim=1)\n",
        "\n",
        "t=int( math.floor(df.size(dim=0)/(sequence_length*batch_size))*(sequence_length*batch_size))\n",
        "\n",
        "trainset = df[0: int(t-sequence_length*batch_size) ].view(-1,batch_size,sequence_length,input_size)#[:,:,:,1:3]  #shape [89, 64, 1024, 5]\n",
        "groundtruth = df[sequence_length*batch_size: t ].view(-1,batch_size,sequence_length,input_size)[:,:,:,2:3] #shape [89, 64, 1024, 2] int(math.floor(df.size(dim=0)/(sequence_length*batch_size))*(sequence_length*batch_size))\n",
        "# testset = df[math.floor(df.size(dim=0)/(sequence_length*batch_size))*(sequence_length*batch_size):]\n",
        "# testset = df[:math.floor(testset.size(dim=0)/sequence_length)*sequence_length].view(-1,sequence_length,input_size) #[20, 1024, 5]\n",
        "train_x =  trainset[:-10] \n",
        "train_y =  groundtruth[:-10] \n",
        "test_x =  trainset[-10:]  #train\n",
        "test_y =  groundtruth[-10:] #label\n",
        "\n",
        "number_of_batches = train_x.size(dim =0)\n",
        "input_size = train_x.size(dim=3)\n",
        "output_size = groundtruth.size(dim=3)\n",
        "n_epochs = 100#int(input('Epochs - '))\n",
        "lr=0.00001#float(input('Learning Rate - '))\n",
        "hidden_dim = 1024#int(input('hidden_dim - ')) \n",
        "n_layers = 3#int(input('LSTM layers - '))\n"
      ]
    },
    {
      "cell_type": "code",
      "execution_count": 50,
      "metadata": {
        "colab": {
          "base_uri": "https://localhost:8080/"
        },
        "id": "dlc0NrSTOmcf",
        "outputId": "d8775ee6-169f-4338-d6e3-70e77140fcd9"
      },
      "outputs": [
        {
          "output_type": "execute_result",
          "data": {
            "text/plain": [
              "torch.Size([4691, 1, 22, 1])"
            ]
          },
          "metadata": {},
          "execution_count": 50
        }
      ],
      "source": [
        "train_y.shape"
      ]
    },
    {
      "cell_type": "code",
      "execution_count": 57,
      "metadata": {
        "id": "cWUZ29iTcZGz"
      },
      "outputs": [],
      "source": [
        "class LSTMModel(nn.Module):\n",
        "    def __init__(self, input_size, output_size, hidden_dim, n_layers,batch_size):\n",
        "        super(LSTMModel, self).__init__()\n",
        "\n",
        "        # Defining some parameters\n",
        "        self.hidden_dim = hidden_dim\n",
        "        self.n_layers = n_layers\n",
        "        self.normal = nn.BatchNorm1d(batch_size)\n",
        "        #Defining the layers\n",
        "        # RNN Layer\n",
        "        self.lstm1 = nn.LSTM(input_size, hidden_dim, n_layers, batch_first=True)#, bidirectional = False) \n",
        "        # self.lstm2 = nn.LSTM(hidden_dim,hidden_dim, n_layers, batch_first=True)  \n",
        "        # Fully connected layer\n",
        "        # self.fcx1 = nn.Linear(hidden_dim, hidden_dim)\n",
        "        self.fcx2 = nn.Linear(hidden_dim, output_size)\n",
        "    \n",
        "    def forward(self, x, hidden):\n",
        "        \n",
        "        # batch_size = x.size(0)\n",
        "        # x = F.normalize(x)\n",
        "        # x = self.normal(x)\n",
        "        \n",
        "        # Passing in the input and hidden state into the model and obtaining outputs\n",
        "        out, h = self.lstm1(x,hidden )\n",
        "        out = self.fcx2(out)\n",
        "        # out = torch.sigmoid(self.fcx2(out))\n",
        "        hiddenout = (h[0].to(device),h[1].to(device))\n",
        "        # return torch.squeeze(out,2),hiddenout\n",
        "        return out,hiddenout\n",
        "\n",
        "def init_hidden(n_layers,batch_size, hidden_dim):\n",
        "        # This method generates the first hidden state of zeros which we'll use in the forward pass\n",
        "        # We'll send the tensor holding the hidden state to the device we specified earlier as well\n",
        "    hidden = torch.zeros(n_layers, batch_size, hidden_dim).to(device)\n",
        "    cell = torch.zeros(n_layers, batch_size, hidden_dim).to(device)\n",
        "    return (hidden,cell)"
      ]
    },
    {
      "cell_type": "code",
      "execution_count": 58,
      "metadata": {
        "id": "mL3IBrd_cdWX"
      },
      "outputs": [],
      "source": [
        "model = LSTMModel(input_size,output_size,hidden_dim,n_layers,batch_size).to(device)\n",
        "loss_function = nn.MSELoss()\n",
        "optimizer = optim.Adam(model.parameters(), lr=lr)#, maximize = True)\n",
        "hidden = init_hidden(n_layers, batch_size, hidden_dim)\n"
      ]
    },
    {
      "cell_type": "code",
      "execution_count": 59,
      "metadata": {
        "colab": {
          "base_uri": "https://localhost:8080/",
          "height": 1000
        },
        "id": "m2g6AcDtcgxL",
        "outputId": "66636c8f-3c3b-496d-ff4d-118687fc8d2e"
      },
      "outputs": [
        {
          "output_type": "stream",
          "name": "stdout",
          "text": [
            "0 tensor(0.2461, device='cuda:0', grad_fn=<MseLossBackward0>)\n",
            "1 tensor(0.1350, device='cuda:0', grad_fn=<MseLossBackward0>)\n",
            "2 tensor(0.1014, device='cuda:0', grad_fn=<MseLossBackward0>)\n",
            "3 tensor(0.0873, device='cuda:0', grad_fn=<MseLossBackward0>)\n",
            "4 tensor(0.0744, device='cuda:0', grad_fn=<MseLossBackward0>)\n",
            "5 tensor(0.0584, device='cuda:0', grad_fn=<MseLossBackward0>)\n",
            "6 tensor(0.0430, device='cuda:0', grad_fn=<MseLossBackward0>)\n",
            "7 tensor(0.0348, device='cuda:0', grad_fn=<MseLossBackward0>)\n",
            "8 tensor(0.0329, device='cuda:0', grad_fn=<MseLossBackward0>)\n",
            "9 tensor(0.0328, device='cuda:0', grad_fn=<MseLossBackward0>)\n",
            "10 tensor(0.0261, device='cuda:0', grad_fn=<MseLossBackward0>)\n",
            "11 tensor(0.0201, device='cuda:0', grad_fn=<MseLossBackward0>)\n",
            "12 tensor(0.0182, device='cuda:0', grad_fn=<MseLossBackward0>)\n",
            "13 tensor(0.0168, device='cuda:0', grad_fn=<MseLossBackward0>)\n",
            "14 tensor(0.0154, device='cuda:0', grad_fn=<MseLossBackward0>)\n",
            "15 tensor(0.0142, device='cuda:0', grad_fn=<MseLossBackward0>)\n",
            "16 tensor(0.0131, device='cuda:0', grad_fn=<MseLossBackward0>)\n",
            "17 tensor(0.0120, device='cuda:0', grad_fn=<MseLossBackward0>)\n",
            "18 tensor(0.0110, device='cuda:0', grad_fn=<MseLossBackward0>)\n",
            "19 tensor(0.0101, device='cuda:0', grad_fn=<MseLossBackward0>)\n",
            "20 tensor(0.0092, device='cuda:0', grad_fn=<MseLossBackward0>)\n",
            "21 tensor(0.0085, device='cuda:0', grad_fn=<MseLossBackward0>)\n",
            "22 tensor(0.0078, device='cuda:0', grad_fn=<MseLossBackward0>)\n",
            "23 tensor(0.0071, device='cuda:0', grad_fn=<MseLossBackward0>)\n",
            "24 tensor(0.0066, device='cuda:0', grad_fn=<MseLossBackward0>)\n",
            "25 tensor(0.0061, device='cuda:0', grad_fn=<MseLossBackward0>)\n",
            "26 tensor(0.0056, device='cuda:0', grad_fn=<MseLossBackward0>)\n",
            "27 tensor(0.0052, device='cuda:0', grad_fn=<MseLossBackward0>)\n",
            "28 tensor(0.0048, device='cuda:0', grad_fn=<MseLossBackward0>)\n",
            "29 tensor(0.0045, device='cuda:0', grad_fn=<MseLossBackward0>)\n",
            "30 tensor(0.0041, device='cuda:0', grad_fn=<MseLossBackward0>)\n",
            "31 tensor(0.0038, device='cuda:0', grad_fn=<MseLossBackward0>)\n",
            "32 tensor(0.0035, device='cuda:0', grad_fn=<MseLossBackward0>)\n",
            "33 tensor(0.0033, device='cuda:0', grad_fn=<MseLossBackward0>)\n",
            "34 tensor(0.0030, device='cuda:0', grad_fn=<MseLossBackward0>)\n",
            "35 tensor(0.0028, device='cuda:0', grad_fn=<MseLossBackward0>)\n",
            "36 tensor(0.0026, device='cuda:0', grad_fn=<MseLossBackward0>)\n",
            "37 tensor(0.0024, device='cuda:0', grad_fn=<MseLossBackward0>)\n",
            "38 tensor(0.0022, device='cuda:0', grad_fn=<MseLossBackward0>)\n",
            "39 tensor(0.0020, device='cuda:0', grad_fn=<MseLossBackward0>)\n",
            "40 tensor(0.0018, device='cuda:0', grad_fn=<MseLossBackward0>)\n",
            "41 tensor(0.0017, device='cuda:0', grad_fn=<MseLossBackward0>)\n",
            "42 tensor(0.0015, device='cuda:0', grad_fn=<MseLossBackward0>)\n",
            "43 tensor(0.0014, device='cuda:0', grad_fn=<MseLossBackward0>)\n",
            "44 tensor(0.0013, device='cuda:0', grad_fn=<MseLossBackward0>)\n",
            "45 tensor(0.0012, device='cuda:0', grad_fn=<MseLossBackward0>)\n",
            "46 tensor(0.0011, device='cuda:0', grad_fn=<MseLossBackward0>)\n",
            "47 tensor(0.0010, device='cuda:0', grad_fn=<MseLossBackward0>)\n",
            "48 tensor(0.0009, device='cuda:0', grad_fn=<MseLossBackward0>)\n",
            "49 tensor(0.0009, device='cuda:0', grad_fn=<MseLossBackward0>)\n",
            "50 tensor(0.0008, device='cuda:0', grad_fn=<MseLossBackward0>)\n",
            "51 tensor(0.0007, device='cuda:0', grad_fn=<MseLossBackward0>)\n",
            "52 tensor(0.0007, device='cuda:0', grad_fn=<MseLossBackward0>)\n",
            "53 tensor(0.0006, device='cuda:0', grad_fn=<MseLossBackward0>)\n",
            "54 tensor(0.0006, device='cuda:0', grad_fn=<MseLossBackward0>)\n",
            "55 tensor(0.0005, device='cuda:0', grad_fn=<MseLossBackward0>)\n",
            "56 tensor(0.0005, device='cuda:0', grad_fn=<MseLossBackward0>)\n",
            "57 tensor(0.0005, device='cuda:0', grad_fn=<MseLossBackward0>)\n",
            "58 tensor(0.0004, device='cuda:0', grad_fn=<MseLossBackward0>)\n",
            "59 tensor(0.0004, device='cuda:0', grad_fn=<MseLossBackward0>)\n",
            "60 tensor(0.0004, device='cuda:0', grad_fn=<MseLossBackward0>)\n"
          ]
        },
        {
          "output_type": "error",
          "ename": "KeyboardInterrupt",
          "evalue": "ignored",
          "traceback": [
            "\u001b[0;31m---------------------------------------------------------------------------\u001b[0m",
            "\u001b[0;31mKeyboardInterrupt\u001b[0m                         Traceback (most recent call last)",
            "\u001b[0;32m<ipython-input-59-1924ea2e1872>\u001b[0m in \u001b[0;36m<module>\u001b[0;34m\u001b[0m\n\u001b[1;32m     11\u001b[0m \u001b[0;34m\u001b[0m\u001b[0m\n\u001b[1;32m     12\u001b[0m         \u001b[0;31m# run[\"training/batch/loss\"].log(loss)\u001b[0m\u001b[0;34m\u001b[0m\u001b[0;34m\u001b[0m\u001b[0;34m\u001b[0m\u001b[0m\n\u001b[0;32m---> 13\u001b[0;31m         \u001b[0mloss\u001b[0m\u001b[0;34m.\u001b[0m\u001b[0mbackward\u001b[0m\u001b[0;34m(\u001b[0m \u001b[0mretain_graph\u001b[0m\u001b[0;34m=\u001b[0m\u001b[0;32mTrue\u001b[0m\u001b[0;34m)\u001b[0m  \u001b[0;31m# apply this loss backwards thru the network's parameters\u001b[0m\u001b[0;34m\u001b[0m\u001b[0;34m\u001b[0m\u001b[0m\n\u001b[0m\u001b[1;32m     14\u001b[0m         \u001b[0moptimizer\u001b[0m\u001b[0;34m.\u001b[0m\u001b[0mstep\u001b[0m\u001b[0;34m(\u001b[0m\u001b[0;34m)\u001b[0m  \u001b[0;31m# attempt to optimize weights to account for loss/gradients\u001b[0m\u001b[0;34m\u001b[0m\u001b[0;34m\u001b[0m\u001b[0m\n\u001b[1;32m     15\u001b[0m \u001b[0;34m\u001b[0m\u001b[0m\n",
            "\u001b[0;32m/usr/local/lib/python3.7/dist-packages/torch/_tensor.py\u001b[0m in \u001b[0;36mbackward\u001b[0;34m(self, gradient, retain_graph, create_graph, inputs)\u001b[0m\n\u001b[1;32m    394\u001b[0m                 \u001b[0mcreate_graph\u001b[0m\u001b[0;34m=\u001b[0m\u001b[0mcreate_graph\u001b[0m\u001b[0;34m,\u001b[0m\u001b[0;34m\u001b[0m\u001b[0;34m\u001b[0m\u001b[0m\n\u001b[1;32m    395\u001b[0m                 inputs=inputs)\n\u001b[0;32m--> 396\u001b[0;31m         \u001b[0mtorch\u001b[0m\u001b[0;34m.\u001b[0m\u001b[0mautograd\u001b[0m\u001b[0;34m.\u001b[0m\u001b[0mbackward\u001b[0m\u001b[0;34m(\u001b[0m\u001b[0mself\u001b[0m\u001b[0;34m,\u001b[0m \u001b[0mgradient\u001b[0m\u001b[0;34m,\u001b[0m \u001b[0mretain_graph\u001b[0m\u001b[0;34m,\u001b[0m \u001b[0mcreate_graph\u001b[0m\u001b[0;34m,\u001b[0m \u001b[0minputs\u001b[0m\u001b[0;34m=\u001b[0m\u001b[0minputs\u001b[0m\u001b[0;34m)\u001b[0m\u001b[0;34m\u001b[0m\u001b[0;34m\u001b[0m\u001b[0m\n\u001b[0m\u001b[1;32m    397\u001b[0m \u001b[0;34m\u001b[0m\u001b[0m\n\u001b[1;32m    398\u001b[0m     \u001b[0;32mdef\u001b[0m \u001b[0mregister_hook\u001b[0m\u001b[0;34m(\u001b[0m\u001b[0mself\u001b[0m\u001b[0;34m,\u001b[0m \u001b[0mhook\u001b[0m\u001b[0;34m)\u001b[0m\u001b[0;34m:\u001b[0m\u001b[0;34m\u001b[0m\u001b[0;34m\u001b[0m\u001b[0m\n",
            "\u001b[0;32m/usr/local/lib/python3.7/dist-packages/torch/autograd/__init__.py\u001b[0m in \u001b[0;36mbackward\u001b[0;34m(tensors, grad_tensors, retain_graph, create_graph, grad_variables, inputs)\u001b[0m\n\u001b[1;32m    173\u001b[0m     Variable._execution_engine.run_backward(  # Calls into the C++ engine to run the backward pass\n\u001b[1;32m    174\u001b[0m         \u001b[0mtensors\u001b[0m\u001b[0;34m,\u001b[0m \u001b[0mgrad_tensors_\u001b[0m\u001b[0;34m,\u001b[0m \u001b[0mretain_graph\u001b[0m\u001b[0;34m,\u001b[0m \u001b[0mcreate_graph\u001b[0m\u001b[0;34m,\u001b[0m \u001b[0minputs\u001b[0m\u001b[0;34m,\u001b[0m\u001b[0;34m\u001b[0m\u001b[0;34m\u001b[0m\u001b[0m\n\u001b[0;32m--> 175\u001b[0;31m         allow_unreachable=True, accumulate_grad=True)  # Calls into the C++ engine to run the backward pass\n\u001b[0m\u001b[1;32m    176\u001b[0m \u001b[0;34m\u001b[0m\u001b[0m\n\u001b[1;32m    177\u001b[0m def grad(\n",
            "\u001b[0;31mKeyboardInterrupt\u001b[0m: "
          ]
        }
      ],
      "source": [
        "\n",
        "#____________________________________________________________________________________________________________________________________________________________________________________\n",
        "model.train()\n",
        "for epoch in range(n_epochs): # 3 full passes over the data\n",
        "  #  model.train()\n",
        "    for data in range(number_of_batches):  # `data` is a batch of data\n",
        "        model.zero_grad()  # sets gradients to 0 before loss calc. You will do this likely every step.\n",
        "        out,h = model.forward(train_x[data].to(device).float(), hidden)\n",
        "        \n",
        "        # loss = loss_function(out, F.normalize(train_y[data]).to(device).float())\n",
        "        loss = loss_function(out,train_y[data].to(device).float())\n",
        "\n",
        "        # run[\"training/batch/loss\"].log(loss)\n",
        "        loss.backward( retain_graph=True)  # apply this loss backwards thru the network's parameters\n",
        "        optimizer.step()  # attempt to optimize weights to account for loss/gradients\n",
        "    \n",
        "    print(epoch,loss)"
      ]
    },
    {
      "cell_type": "code",
      "execution_count": 60,
      "metadata": {
        "id": "N_RmwMqrckev"
      },
      "outputs": [],
      "source": [
        "model.eval()\n",
        "out_predict =[]\n",
        "test_truth = []\n",
        "for k in range(len(test_y)):\n",
        "  out,h = model.forward(test_x[k].to(device).float(), hidden)\n",
        "  # test_truth  = np.concatenate((test_truth, np.squeeze(sc.fit_transform(test_y[k].view(-1,1).cpu().detach().numpy()) ,1)) , axis = 0)\n",
        "  test_truth  = np.concatenate((test_truth, np.squeeze(test_y[k].view(-1,1).cpu().detach().numpy() ,1)) , axis = 0)\n",
        "  out_predict = np.concatenate( (out_predict, torch.squeeze(out.view(-1,1),1).cpu().detach().numpy() ) , axis =0)"
      ]
    },
    {
      "cell_type": "code",
      "execution_count": null,
      "metadata": {
        "id": "fvy-Mu4xolhm"
      },
      "outputs": [],
      "source": [
        "\n",
        "# test_truth=torch.squeeze(F.normalize(test_y[0][0]),1).cpu().detach().numpy()\n",
        "# test_truth  = torch.squeeze(F.normalize(test_y.view(-1,1)),1).cpu().detach().numpy()\n",
        "test_truth  = torch.squeeze(test_y.view(-1,1),1).cpu().detach().numpy()\n",
        "\n",
        "out_predict =torch.squeeze(out[0],1).cpu().detach().numpy()\n",
        "# torch.squeeze(F.normalize(test_y[0,:]),0)[:,0].cpu().detach().numpy().shape"
      ]
    },
    {
      "cell_type": "code",
      "execution_count": null,
      "metadata": {
        "colab": {
          "base_uri": "https://localhost:8080/",
          "height": 200
        },
        "id": "mF5ncx9-ptlx",
        "outputId": "63545132-07d9-4ecb-f6db-1b5390af0c04"
      },
      "outputs": [
        {
          "ename": "RuntimeError",
          "evalue": "ignored",
          "output_type": "error",
          "traceback": [
            "\u001b[0;31m---------------------------------------------------------------------------\u001b[0m",
            "\u001b[0;31mRuntimeError\u001b[0m                              Traceback (most recent call last)",
            "\u001b[0;32m<ipython-input-71-85b479d7b83f>\u001b[0m in \u001b[0;36m<module>\u001b[0;34m\u001b[0m\n\u001b[1;32m      1\u001b[0m \u001b[0;31m# test_truth\u001b[0m\u001b[0;34m\u001b[0m\u001b[0;34m\u001b[0m\u001b[0;34m\u001b[0m\u001b[0m\n\u001b[1;32m      2\u001b[0m \u001b[0mout_predict\u001b[0m\u001b[0;34m\u001b[0m\u001b[0;34m\u001b[0m\u001b[0m\n\u001b[0;32m----> 3\u001b[0;31m \u001b[0mout\u001b[0m\u001b[0;34m,\u001b[0m\u001b[0mh\u001b[0m \u001b[0;34m=\u001b[0m \u001b[0mmodel\u001b[0m\u001b[0;34m.\u001b[0m\u001b[0mforward\u001b[0m\u001b[0;34m(\u001b[0m\u001b[0mtest_x\u001b[0m\u001b[0;34m.\u001b[0m\u001b[0mview\u001b[0m\u001b[0;34m(\u001b[0m\u001b[0;34m-\u001b[0m\u001b[0;36m1\u001b[0m\u001b[0;34m,\u001b[0m\u001b[0;36m1\u001b[0m\u001b[0;34m)\u001b[0m\u001b[0;34m.\u001b[0m\u001b[0mto\u001b[0m\u001b[0;34m(\u001b[0m\u001b[0mdevice\u001b[0m\u001b[0;34m)\u001b[0m\u001b[0;34m.\u001b[0m\u001b[0mfloat\u001b[0m\u001b[0;34m(\u001b[0m\u001b[0;34m)\u001b[0m\u001b[0;34m,\u001b[0m \u001b[0mhidden\u001b[0m\u001b[0;34m)\u001b[0m\u001b[0;34m\u001b[0m\u001b[0;34m\u001b[0m\u001b[0m\n\u001b[0m",
            "\u001b[0;31mRuntimeError\u001b[0m: view size is not compatible with input tensor's size and stride (at least one dimension spans across two contiguous subspaces). Use .reshape(...) instead."
          ]
        }
      ],
      "source": [
        "# test_truth\n",
        "out_predict\n",
        "\n"
      ]
    },
    {
      "cell_type": "code",
      "execution_count": 61,
      "metadata": {
        "colab": {
          "base_uri": "https://localhost:8080/",
          "height": 265
        },
        "id": "VOlgnJnxcoOc",
        "outputId": "cda4225a-5c17-4be9-f214-35d14a315099"
      },
      "outputs": [
        {
          "output_type": "display_data",
          "data": {
            "text/plain": [
              "<Figure size 432x288 with 1 Axes>"
            ],
            "image/png": "[encoded data removed]"
          },
          "metadata": {
            "needs_background": "light"
          }
        }
      ],
      "source": [
        "plt.plot(test_truth,'b')\n",
        "# plt.plot(torch.squeeze(out[0,:],0)[:,0].cpu().detach().numpy(),'r')\n",
        "plt.plot(out_predict,'r')\n",
        "plt.show()"
      ]
    }
  ],
  "metadata": {
    "colab": {
      "provenance": []
    },
    "gpuClass": "standard",
    "kernelspec": {
      "display_name": "Python 3",
      "name": "python3"
    },
    "language_info": {
      "name": "python"
    },
    "accelerator": "GPU"
  },
  "nbformat": 4,
  "nbformat_minor": 0
}